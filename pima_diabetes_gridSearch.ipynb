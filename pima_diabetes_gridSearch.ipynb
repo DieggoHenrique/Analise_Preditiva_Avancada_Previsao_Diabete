{
 "cells": [
  {
   "cell_type": "markdown",
   "metadata": {},
   "source": [
    "## Pima Indians Diabetes Database\n",
    "\n",
    "Previsão do início de diabetes dos índios Pima com base em medidas de diagnóstico"
   ]
  },
  {
   "cell_type": "markdown",
   "metadata": {
    "button": false,
    "new_sheet": false,
    "run_control": {
     "read_only": false
    }
   },
   "source": [
    "Permite importar primeiro as bibliotecas necessárias:"
   ]
  },
  {
   "cell_type": "code",
   "execution_count": 1,
   "metadata": {
    "button": false,
    "new_sheet": false,
    "run_control": {
     "read_only": false
    }
   },
   "outputs": [],
   "source": [
    "import pandas as pd\n",
    "import pylab as pl\n",
    "import numpy as np\n",
    "import scipy.optimize as opt\n",
    "\n",
    "from sklearn import preprocessing\n",
    "\n",
    "%matplotlib inline \n",
    "import matplotlib.pyplot as plt\n",
    "import seaborn as sns"
   ]
  },
  {
   "cell_type": "markdown",
   "metadata": {
    "button": false,
    "new_sheet": false,
    "run_control": {
     "read_only": false
    }
   },
   "source": [
    "### Sobre o dataset\n",
    "\n",
    "Este conjunto de dados é originalmente do Instituto Nacional de Diabetes e Doenças Digestivas e Renais. O objetivo do dataset é prever de forma diagnóstica se um paciente tem ou não diabetes, com base em certas medidas de diagnóstico incluídas no conjunto de dados. Várias restrições foram colocadas na seleção dessas instâncias de um banco de dados maior. Em particular, todos os pacientes aqui são mulheres com pelo menos 21 anos de idade, descendentes dos índios Pima.\n",
    "\n",
    "O conjunto de dados consiste em várias variáveis preditivas médicas e uma variável alvo, \"Outcome\". As variáveis preditoras incluem o número de gestações que a paciente teve, seu IMC, nível de insulina, idade e assim por diante.\n"
   ]
  },
  {
   "cell_type": "markdown",
   "metadata": {
    "button": false,
    "new_sheet": false,
    "run_control": {
     "read_only": false
    }
   },
   "source": [
    "### Ler dados do arquivo CSV  "
   ]
  },
  {
   "cell_type": "code",
   "execution_count": 2,
   "metadata": {
    "button": false,
    "new_sheet": false,
    "run_control": {
     "read_only": false
    },
    "scrolled": true
   },
   "outputs": [
    {
     "data": {
      "text/html": [
       "<div>\n",
       "<style scoped>\n",
       "    .dataframe tbody tr th:only-of-type {\n",
       "        vertical-align: middle;\n",
       "    }\n",
       "\n",
       "    .dataframe tbody tr th {\n",
       "        vertical-align: top;\n",
       "    }\n",
       "\n",
       "    .dataframe thead th {\n",
       "        text-align: right;\n",
       "    }\n",
       "</style>\n",
       "<table border=\"1\" class=\"dataframe\">\n",
       "  <thead>\n",
       "    <tr style=\"text-align: right;\">\n",
       "      <th></th>\n",
       "      <th>Pregnancies</th>\n",
       "      <th>Glucose</th>\n",
       "      <th>BloodPressure</th>\n",
       "      <th>SkinThickness</th>\n",
       "      <th>Insulin</th>\n",
       "      <th>BMI</th>\n",
       "      <th>DiabetesPedigreeFunction</th>\n",
       "      <th>Age</th>\n",
       "      <th>Outcome</th>\n",
       "    </tr>\n",
       "  </thead>\n",
       "  <tbody>\n",
       "    <tr>\n",
       "      <th>0</th>\n",
       "      <td>6</td>\n",
       "      <td>148</td>\n",
       "      <td>72</td>\n",
       "      <td>35</td>\n",
       "      <td>0</td>\n",
       "      <td>33.6</td>\n",
       "      <td>0.627</td>\n",
       "      <td>50</td>\n",
       "      <td>1</td>\n",
       "    </tr>\n",
       "    <tr>\n",
       "      <th>1</th>\n",
       "      <td>1</td>\n",
       "      <td>85</td>\n",
       "      <td>66</td>\n",
       "      <td>29</td>\n",
       "      <td>0</td>\n",
       "      <td>26.6</td>\n",
       "      <td>0.351</td>\n",
       "      <td>31</td>\n",
       "      <td>0</td>\n",
       "    </tr>\n",
       "    <tr>\n",
       "      <th>2</th>\n",
       "      <td>8</td>\n",
       "      <td>183</td>\n",
       "      <td>64</td>\n",
       "      <td>0</td>\n",
       "      <td>0</td>\n",
       "      <td>23.3</td>\n",
       "      <td>0.672</td>\n",
       "      <td>32</td>\n",
       "      <td>1</td>\n",
       "    </tr>\n",
       "    <tr>\n",
       "      <th>3</th>\n",
       "      <td>1</td>\n",
       "      <td>89</td>\n",
       "      <td>66</td>\n",
       "      <td>23</td>\n",
       "      <td>94</td>\n",
       "      <td>28.1</td>\n",
       "      <td>0.167</td>\n",
       "      <td>21</td>\n",
       "      <td>0</td>\n",
       "    </tr>\n",
       "    <tr>\n",
       "      <th>4</th>\n",
       "      <td>0</td>\n",
       "      <td>137</td>\n",
       "      <td>40</td>\n",
       "      <td>35</td>\n",
       "      <td>168</td>\n",
       "      <td>43.1</td>\n",
       "      <td>2.288</td>\n",
       "      <td>33</td>\n",
       "      <td>1</td>\n",
       "    </tr>\n",
       "    <tr>\n",
       "      <th>5</th>\n",
       "      <td>5</td>\n",
       "      <td>116</td>\n",
       "      <td>74</td>\n",
       "      <td>0</td>\n",
       "      <td>0</td>\n",
       "      <td>25.6</td>\n",
       "      <td>0.201</td>\n",
       "      <td>30</td>\n",
       "      <td>0</td>\n",
       "    </tr>\n",
       "    <tr>\n",
       "      <th>6</th>\n",
       "      <td>3</td>\n",
       "      <td>78</td>\n",
       "      <td>50</td>\n",
       "      <td>32</td>\n",
       "      <td>88</td>\n",
       "      <td>31.0</td>\n",
       "      <td>0.248</td>\n",
       "      <td>26</td>\n",
       "      <td>1</td>\n",
       "    </tr>\n",
       "    <tr>\n",
       "      <th>7</th>\n",
       "      <td>10</td>\n",
       "      <td>115</td>\n",
       "      <td>0</td>\n",
       "      <td>0</td>\n",
       "      <td>0</td>\n",
       "      <td>35.3</td>\n",
       "      <td>0.134</td>\n",
       "      <td>29</td>\n",
       "      <td>0</td>\n",
       "    </tr>\n",
       "    <tr>\n",
       "      <th>8</th>\n",
       "      <td>2</td>\n",
       "      <td>197</td>\n",
       "      <td>70</td>\n",
       "      <td>45</td>\n",
       "      <td>543</td>\n",
       "      <td>30.5</td>\n",
       "      <td>0.158</td>\n",
       "      <td>53</td>\n",
       "      <td>1</td>\n",
       "    </tr>\n",
       "    <tr>\n",
       "      <th>9</th>\n",
       "      <td>8</td>\n",
       "      <td>125</td>\n",
       "      <td>96</td>\n",
       "      <td>0</td>\n",
       "      <td>0</td>\n",
       "      <td>0.0</td>\n",
       "      <td>0.232</td>\n",
       "      <td>54</td>\n",
       "      <td>1</td>\n",
       "    </tr>\n",
       "  </tbody>\n",
       "</table>\n",
       "</div>"
      ],
      "text/plain": [
       "   Pregnancies  Glucose  BloodPressure  SkinThickness  Insulin   BMI  \\\n",
       "0            6      148             72             35        0  33.6   \n",
       "1            1       85             66             29        0  26.6   \n",
       "2            8      183             64              0        0  23.3   \n",
       "3            1       89             66             23       94  28.1   \n",
       "4            0      137             40             35      168  43.1   \n",
       "5            5      116             74              0        0  25.6   \n",
       "6            3       78             50             32       88  31.0   \n",
       "7           10      115              0              0        0  35.3   \n",
       "8            2      197             70             45      543  30.5   \n",
       "9            8      125             96              0        0   0.0   \n",
       "\n",
       "   DiabetesPedigreeFunction  Age  Outcome  \n",
       "0                     0.627   50        1  \n",
       "1                     0.351   31        0  \n",
       "2                     0.672   32        1  \n",
       "3                     0.167   21        0  \n",
       "4                     2.288   33        1  \n",
       "5                     0.201   30        0  \n",
       "6                     0.248   26        1  \n",
       "7                     0.134   29        0  \n",
       "8                     0.158   53        1  \n",
       "9                     0.232   54        1  "
      ]
     },
     "execution_count": 2,
     "metadata": {},
     "output_type": "execute_result"
    }
   ],
   "source": [
    "diabetes_df = pd.read_csv(\"diabetes.csv\")\n",
    "\n",
    "# mostra as 10 primeiras linhas do dataframe\n",
    "diabetes_df.head(10)"
   ]
  },
  {
   "cell_type": "code",
   "execution_count": 3,
   "metadata": {},
   "outputs": [
    {
     "data": {
      "text/plain": [
       "Index(['Pregnancies', 'Glucose', 'BloodPressure', 'SkinThickness', 'Insulin',\n",
       "       'BMI', 'DiabetesPedigreeFunction', 'Age', 'Outcome'],\n",
       "      dtype='object')"
      ]
     },
     "execution_count": 3,
     "metadata": {},
     "output_type": "execute_result"
    }
   ],
   "source": [
    "# encontra o nome das colunas do dataframe\n",
    "diabetes_df.columns"
   ]
  },
  {
   "cell_type": "markdown",
   "metadata": {},
   "source": [
    "<h2>Tipos de dados</h2>\n",
    "\n",
    "Os principais tipos armazenados nos quadros de dados do Pandas são <b>object</b>, <b>float</b>, <b>int</b>, <b>bool</b> e <b>datetime64</b>. Para aprender melhor sobre cada atributo, é sempre bom conhecer o tipo de dados de cada coluna. No pandas:"
   ]
  },
  {
   "cell_type": "code",
   "execution_count": 4,
   "metadata": {},
   "outputs": [
    {
     "data": {
      "text/plain": [
       "Pregnancies                   int64\n",
       "Glucose                       int64\n",
       "BloodPressure                 int64\n",
       "SkinThickness                 int64\n",
       "Insulin                       int64\n",
       "BMI                         float64\n",
       "DiabetesPedigreeFunction    float64\n",
       "Age                           int64\n",
       "Outcome                       int64\n",
       "dtype: object"
      ]
     },
     "execution_count": 4,
     "metadata": {},
     "output_type": "execute_result"
    }
   ],
   "source": [
    "# os tipos de dados de cada coluna\n",
    "diabetes_df.dtypes"
   ]
  },
  {
   "cell_type": "markdown",
   "metadata": {},
   "source": [
    "<h2>Descrição estatística dos dados</h2>\n",
    "Se quisermos obter um resumo estatístico de cada coluna, como contagem, valor médio da coluna, desvio padrão da coluna, etc. Utilizamos o método de descrição:"
   ]
  },
  {
   "cell_type": "code",
   "execution_count": 5,
   "metadata": {},
   "outputs": [
    {
     "data": {
      "text/html": [
       "<div>\n",
       "<style scoped>\n",
       "    .dataframe tbody tr th:only-of-type {\n",
       "        vertical-align: middle;\n",
       "    }\n",
       "\n",
       "    .dataframe tbody tr th {\n",
       "        vertical-align: top;\n",
       "    }\n",
       "\n",
       "    .dataframe thead th {\n",
       "        text-align: right;\n",
       "    }\n",
       "</style>\n",
       "<table border=\"1\" class=\"dataframe\">\n",
       "  <thead>\n",
       "    <tr style=\"text-align: right;\">\n",
       "      <th></th>\n",
       "      <th>Pregnancies</th>\n",
       "      <th>Glucose</th>\n",
       "      <th>BloodPressure</th>\n",
       "      <th>SkinThickness</th>\n",
       "      <th>Insulin</th>\n",
       "      <th>BMI</th>\n",
       "      <th>DiabetesPedigreeFunction</th>\n",
       "      <th>Age</th>\n",
       "      <th>Outcome</th>\n",
       "    </tr>\n",
       "  </thead>\n",
       "  <tbody>\n",
       "    <tr>\n",
       "      <th>count</th>\n",
       "      <td>768.000000</td>\n",
       "      <td>768.000000</td>\n",
       "      <td>768.000000</td>\n",
       "      <td>768.000000</td>\n",
       "      <td>768.000000</td>\n",
       "      <td>768.000000</td>\n",
       "      <td>768.000000</td>\n",
       "      <td>768.000000</td>\n",
       "      <td>768.000000</td>\n",
       "    </tr>\n",
       "    <tr>\n",
       "      <th>mean</th>\n",
       "      <td>3.845052</td>\n",
       "      <td>120.894531</td>\n",
       "      <td>69.105469</td>\n",
       "      <td>20.536458</td>\n",
       "      <td>79.799479</td>\n",
       "      <td>31.992578</td>\n",
       "      <td>0.471876</td>\n",
       "      <td>33.240885</td>\n",
       "      <td>0.348958</td>\n",
       "    </tr>\n",
       "    <tr>\n",
       "      <th>std</th>\n",
       "      <td>3.369578</td>\n",
       "      <td>31.972618</td>\n",
       "      <td>19.355807</td>\n",
       "      <td>15.952218</td>\n",
       "      <td>115.244002</td>\n",
       "      <td>7.884160</td>\n",
       "      <td>0.331329</td>\n",
       "      <td>11.760232</td>\n",
       "      <td>0.476951</td>\n",
       "    </tr>\n",
       "    <tr>\n",
       "      <th>min</th>\n",
       "      <td>0.000000</td>\n",
       "      <td>0.000000</td>\n",
       "      <td>0.000000</td>\n",
       "      <td>0.000000</td>\n",
       "      <td>0.000000</td>\n",
       "      <td>0.000000</td>\n",
       "      <td>0.078000</td>\n",
       "      <td>21.000000</td>\n",
       "      <td>0.000000</td>\n",
       "    </tr>\n",
       "    <tr>\n",
       "      <th>25%</th>\n",
       "      <td>1.000000</td>\n",
       "      <td>99.000000</td>\n",
       "      <td>62.000000</td>\n",
       "      <td>0.000000</td>\n",
       "      <td>0.000000</td>\n",
       "      <td>27.300000</td>\n",
       "      <td>0.243750</td>\n",
       "      <td>24.000000</td>\n",
       "      <td>0.000000</td>\n",
       "    </tr>\n",
       "    <tr>\n",
       "      <th>50%</th>\n",
       "      <td>3.000000</td>\n",
       "      <td>117.000000</td>\n",
       "      <td>72.000000</td>\n",
       "      <td>23.000000</td>\n",
       "      <td>30.500000</td>\n",
       "      <td>32.000000</td>\n",
       "      <td>0.372500</td>\n",
       "      <td>29.000000</td>\n",
       "      <td>0.000000</td>\n",
       "    </tr>\n",
       "    <tr>\n",
       "      <th>75%</th>\n",
       "      <td>6.000000</td>\n",
       "      <td>140.250000</td>\n",
       "      <td>80.000000</td>\n",
       "      <td>32.000000</td>\n",
       "      <td>127.250000</td>\n",
       "      <td>36.600000</td>\n",
       "      <td>0.626250</td>\n",
       "      <td>41.000000</td>\n",
       "      <td>1.000000</td>\n",
       "    </tr>\n",
       "    <tr>\n",
       "      <th>max</th>\n",
       "      <td>17.000000</td>\n",
       "      <td>199.000000</td>\n",
       "      <td>122.000000</td>\n",
       "      <td>99.000000</td>\n",
       "      <td>846.000000</td>\n",
       "      <td>67.100000</td>\n",
       "      <td>2.420000</td>\n",
       "      <td>81.000000</td>\n",
       "      <td>1.000000</td>\n",
       "    </tr>\n",
       "  </tbody>\n",
       "</table>\n",
       "</div>"
      ],
      "text/plain": [
       "       Pregnancies     Glucose  BloodPressure  SkinThickness     Insulin  \\\n",
       "count   768.000000  768.000000     768.000000     768.000000  768.000000   \n",
       "mean      3.845052  120.894531      69.105469      20.536458   79.799479   \n",
       "std       3.369578   31.972618      19.355807      15.952218  115.244002   \n",
       "min       0.000000    0.000000       0.000000       0.000000    0.000000   \n",
       "25%       1.000000   99.000000      62.000000       0.000000    0.000000   \n",
       "50%       3.000000  117.000000      72.000000      23.000000   30.500000   \n",
       "75%       6.000000  140.250000      80.000000      32.000000  127.250000   \n",
       "max      17.000000  199.000000     122.000000      99.000000  846.000000   \n",
       "\n",
       "              BMI  DiabetesPedigreeFunction         Age     Outcome  \n",
       "count  768.000000                768.000000  768.000000  768.000000  \n",
       "mean    31.992578                  0.471876   33.240885    0.348958  \n",
       "std      7.884160                  0.331329   11.760232    0.476951  \n",
       "min      0.000000                  0.078000   21.000000    0.000000  \n",
       "25%     27.300000                  0.243750   24.000000    0.000000  \n",
       "50%     32.000000                  0.372500   29.000000    0.000000  \n",
       "75%     36.600000                  0.626250   41.000000    1.000000  \n",
       "max     67.100000                  2.420000   81.000000    1.000000  "
      ]
     },
     "execution_count": 5,
     "metadata": {},
     "output_type": "execute_result"
    }
   ],
   "source": [
    "diabetes_df.describe()"
   ]
  },
  {
   "cell_type": "code",
   "execution_count": 6,
   "metadata": {
    "scrolled": true
   },
   "outputs": [
    {
     "data": {
      "text/html": [
       "<div>\n",
       "<style scoped>\n",
       "    .dataframe tbody tr th:only-of-type {\n",
       "        vertical-align: middle;\n",
       "    }\n",
       "\n",
       "    .dataframe tbody tr th {\n",
       "        vertical-align: top;\n",
       "    }\n",
       "\n",
       "    .dataframe thead th {\n",
       "        text-align: right;\n",
       "    }\n",
       "</style>\n",
       "<table border=\"1\" class=\"dataframe\">\n",
       "  <thead>\n",
       "    <tr style=\"text-align: right;\">\n",
       "      <th></th>\n",
       "      <th>Pregnancies</th>\n",
       "      <th>Glucose</th>\n",
       "      <th>Age</th>\n",
       "    </tr>\n",
       "  </thead>\n",
       "  <tbody>\n",
       "    <tr>\n",
       "      <th>count</th>\n",
       "      <td>768.000000</td>\n",
       "      <td>768.000000</td>\n",
       "      <td>768.000000</td>\n",
       "    </tr>\n",
       "    <tr>\n",
       "      <th>mean</th>\n",
       "      <td>3.845052</td>\n",
       "      <td>120.894531</td>\n",
       "      <td>33.240885</td>\n",
       "    </tr>\n",
       "    <tr>\n",
       "      <th>std</th>\n",
       "      <td>3.369578</td>\n",
       "      <td>31.972618</td>\n",
       "      <td>11.760232</td>\n",
       "    </tr>\n",
       "    <tr>\n",
       "      <th>min</th>\n",
       "      <td>0.000000</td>\n",
       "      <td>0.000000</td>\n",
       "      <td>21.000000</td>\n",
       "    </tr>\n",
       "    <tr>\n",
       "      <th>25%</th>\n",
       "      <td>1.000000</td>\n",
       "      <td>99.000000</td>\n",
       "      <td>24.000000</td>\n",
       "    </tr>\n",
       "    <tr>\n",
       "      <th>50%</th>\n",
       "      <td>3.000000</td>\n",
       "      <td>117.000000</td>\n",
       "      <td>29.000000</td>\n",
       "    </tr>\n",
       "    <tr>\n",
       "      <th>75%</th>\n",
       "      <td>6.000000</td>\n",
       "      <td>140.250000</td>\n",
       "      <td>41.000000</td>\n",
       "    </tr>\n",
       "    <tr>\n",
       "      <th>max</th>\n",
       "      <td>17.000000</td>\n",
       "      <td>199.000000</td>\n",
       "      <td>81.000000</td>\n",
       "    </tr>\n",
       "  </tbody>\n",
       "</table>\n",
       "</div>"
      ],
      "text/plain": [
       "       Pregnancies     Glucose         Age\n",
       "count   768.000000  768.000000  768.000000\n",
       "mean      3.845052  120.894531   33.240885\n",
       "std       3.369578   31.972618   11.760232\n",
       "min       0.000000    0.000000   21.000000\n",
       "25%       1.000000   99.000000   24.000000\n",
       "50%       3.000000  117.000000   29.000000\n",
       "75%       6.000000  140.250000   41.000000\n",
       "max      17.000000  199.000000   81.000000"
      ]
     },
     "execution_count": 6,
     "metadata": {},
     "output_type": "execute_result"
    }
   ],
   "source": [
    "# Descrição estatística de colunas selecionadas\n",
    "diabetes_df[['Pregnancies','Glucose','Age']].describe()"
   ]
  },
  {
   "cell_type": "code",
   "execution_count": 7,
   "metadata": {},
   "outputs": [
    {
     "name": "stdout",
     "output_type": "stream",
     "text": [
      "<class 'pandas.core.frame.DataFrame'>\n",
      "RangeIndex: 768 entries, 0 to 767\n",
      "Data columns (total 9 columns):\n",
      " #   Column                    Non-Null Count  Dtype  \n",
      "---  ------                    --------------  -----  \n",
      " 0   Pregnancies               768 non-null    int64  \n",
      " 1   Glucose                   768 non-null    int64  \n",
      " 2   BloodPressure             768 non-null    int64  \n",
      " 3   SkinThickness             768 non-null    int64  \n",
      " 4   Insulin                   768 non-null    int64  \n",
      " 5   BMI                       768 non-null    float64\n",
      " 6   DiabetesPedigreeFunction  768 non-null    float64\n",
      " 7   Age                       768 non-null    int64  \n",
      " 8   Outcome                   768 non-null    int64  \n",
      "dtypes: float64(2), int64(7)\n",
      "memory usage: 54.1 KB\n"
     ]
    }
   ],
   "source": [
    "diabetes_df.info()"
   ]
  },
  {
   "cell_type": "markdown",
   "metadata": {},
   "source": [
    "Vamos ver os valores das variáveis, limitados a no máximo 20 valores."
   ]
  },
  {
   "cell_type": "code",
   "execution_count": 8,
   "metadata": {},
   "outputs": [
    {
     "name": "stdout",
     "output_type": "stream",
     "text": [
      "Pregnancies [ 6  1  8  0  5  3 10  2  4  7  9 11 13 15 17 12 14] \n",
      "\n",
      "Glucose [148  85 183  89 137 116  78 115 197 125 110 168 139 189 166 100 118 107\n",
      " 103 126] \n",
      "\n",
      "BloodPressure [72 66 64 40 74 50  0 70 96 92 80 60 84 30 88 90 94 76 82 75] \n",
      "\n",
      "SkinThickness [35 29  0 23 32 45 19 47 38 30 41 33 26 15 36 11 31 37 42 25] \n",
      "\n",
      "Insulin [  0  94 168  88 543 846 175 230  83  96 235 146 115 140 110 245  54 192\n",
      " 207  70] \n",
      "\n",
      "BMI [33.6 26.6 23.3 28.1 43.1 25.6 31.  35.3 30.5  0.  37.6 38.  27.1 30.1\n",
      " 25.8 30.  45.8 29.6 43.3 34.6] \n",
      "\n",
      "DiabetesPedigreeFunction [0.627 0.351 0.672 0.167 2.288 0.201 0.248 0.134 0.158 0.232 0.191 0.537\n",
      " 1.441 0.398 0.587 0.484 0.551 0.254 0.183 0.529] \n",
      "\n",
      "Age [50 31 32 21 33 30 26 29 53 54 34 57 59 51 27 41 43 22 38 60] \n",
      "\n",
      "Outcome [1 0] \n",
      "\n"
     ]
    }
   ],
   "source": [
    "for var in diabetes_df.columns:\n",
    "    print(var, diabetes_df[var].unique()[0:20], '\\n')"
   ]
  },
  {
   "cell_type": "markdown",
   "metadata": {},
   "source": [
    "Não encontramos valores ausentes num primeiro momento, mas vamos continuar a análise"
   ]
  },
  {
   "cell_type": "markdown",
   "metadata": {},
   "source": [
    "<h2>Identificando valores ausentes</h2>\n",
    "\n",
    "No conjunto de dados do carro, os dados ausentes vêm com o ponto de interrogação \"?\". Nós substituímos \"?\" com NaN (Not a Number), que é o marcador de valor ausente padrão do Python, por razões de velocidade e conveniência computacional. Aqui usamos a função:\n",
    " <pre>.replace(A, B, inplace = True) </pre>\n",
    "para substituir A por B\n",
    "\n",
    "\n",
    "EXISTEM VALORES AUSENTES?"
   ]
  },
  {
   "cell_type": "code",
   "execution_count": 9,
   "metadata": {},
   "outputs": [
    {
     "data": {
      "text/plain": [
       "Pregnancies                 0.0\n",
       "Glucose                     0.0\n",
       "BloodPressure               0.0\n",
       "SkinThickness               0.0\n",
       "Insulin                     0.0\n",
       "BMI                         0.0\n",
       "DiabetesPedigreeFunction    0.0\n",
       "Age                         0.0\n",
       "Outcome                     0.0\n",
       "dtype: float64"
      ]
     },
     "execution_count": 9,
     "metadata": {},
     "output_type": "execute_result"
    }
   ],
   "source": [
    "diabetes_df.isnull().mean()"
   ]
  },
  {
   "cell_type": "code",
   "execution_count": 10,
   "metadata": {},
   "outputs": [
    {
     "data": {
      "text/html": [
       "<div>\n",
       "<style scoped>\n",
       "    .dataframe tbody tr th:only-of-type {\n",
       "        vertical-align: middle;\n",
       "    }\n",
       "\n",
       "    .dataframe tbody tr th {\n",
       "        vertical-align: top;\n",
       "    }\n",
       "\n",
       "    .dataframe thead th {\n",
       "        text-align: right;\n",
       "    }\n",
       "</style>\n",
       "<table border=\"1\" class=\"dataframe\">\n",
       "  <thead>\n",
       "    <tr style=\"text-align: right;\">\n",
       "      <th></th>\n",
       "      <th>Pregnancies</th>\n",
       "      <th>Glucose</th>\n",
       "      <th>BloodPressure</th>\n",
       "      <th>SkinThickness</th>\n",
       "      <th>Insulin</th>\n",
       "      <th>BMI</th>\n",
       "      <th>DiabetesPedigreeFunction</th>\n",
       "      <th>Age</th>\n",
       "      <th>Outcome</th>\n",
       "    </tr>\n",
       "  </thead>\n",
       "  <tbody>\n",
       "    <tr>\n",
       "      <th>0</th>\n",
       "      <td>False</td>\n",
       "      <td>False</td>\n",
       "      <td>False</td>\n",
       "      <td>False</td>\n",
       "      <td>False</td>\n",
       "      <td>False</td>\n",
       "      <td>False</td>\n",
       "      <td>False</td>\n",
       "      <td>False</td>\n",
       "    </tr>\n",
       "    <tr>\n",
       "      <th>1</th>\n",
       "      <td>False</td>\n",
       "      <td>False</td>\n",
       "      <td>False</td>\n",
       "      <td>False</td>\n",
       "      <td>False</td>\n",
       "      <td>False</td>\n",
       "      <td>False</td>\n",
       "      <td>False</td>\n",
       "      <td>False</td>\n",
       "    </tr>\n",
       "    <tr>\n",
       "      <th>2</th>\n",
       "      <td>False</td>\n",
       "      <td>False</td>\n",
       "      <td>False</td>\n",
       "      <td>False</td>\n",
       "      <td>False</td>\n",
       "      <td>False</td>\n",
       "      <td>False</td>\n",
       "      <td>False</td>\n",
       "      <td>False</td>\n",
       "    </tr>\n",
       "    <tr>\n",
       "      <th>3</th>\n",
       "      <td>False</td>\n",
       "      <td>False</td>\n",
       "      <td>False</td>\n",
       "      <td>False</td>\n",
       "      <td>False</td>\n",
       "      <td>False</td>\n",
       "      <td>False</td>\n",
       "      <td>False</td>\n",
       "      <td>False</td>\n",
       "    </tr>\n",
       "    <tr>\n",
       "      <th>4</th>\n",
       "      <td>False</td>\n",
       "      <td>False</td>\n",
       "      <td>False</td>\n",
       "      <td>False</td>\n",
       "      <td>False</td>\n",
       "      <td>False</td>\n",
       "      <td>False</td>\n",
       "      <td>False</td>\n",
       "      <td>False</td>\n",
       "    </tr>\n",
       "    <tr>\n",
       "      <th>5</th>\n",
       "      <td>False</td>\n",
       "      <td>False</td>\n",
       "      <td>False</td>\n",
       "      <td>False</td>\n",
       "      <td>False</td>\n",
       "      <td>False</td>\n",
       "      <td>False</td>\n",
       "      <td>False</td>\n",
       "      <td>False</td>\n",
       "    </tr>\n",
       "    <tr>\n",
       "      <th>6</th>\n",
       "      <td>False</td>\n",
       "      <td>False</td>\n",
       "      <td>False</td>\n",
       "      <td>False</td>\n",
       "      <td>False</td>\n",
       "      <td>False</td>\n",
       "      <td>False</td>\n",
       "      <td>False</td>\n",
       "      <td>False</td>\n",
       "    </tr>\n",
       "    <tr>\n",
       "      <th>7</th>\n",
       "      <td>False</td>\n",
       "      <td>False</td>\n",
       "      <td>False</td>\n",
       "      <td>False</td>\n",
       "      <td>False</td>\n",
       "      <td>False</td>\n",
       "      <td>False</td>\n",
       "      <td>False</td>\n",
       "      <td>False</td>\n",
       "    </tr>\n",
       "    <tr>\n",
       "      <th>8</th>\n",
       "      <td>False</td>\n",
       "      <td>False</td>\n",
       "      <td>False</td>\n",
       "      <td>False</td>\n",
       "      <td>False</td>\n",
       "      <td>False</td>\n",
       "      <td>False</td>\n",
       "      <td>False</td>\n",
       "      <td>False</td>\n",
       "    </tr>\n",
       "    <tr>\n",
       "      <th>9</th>\n",
       "      <td>False</td>\n",
       "      <td>False</td>\n",
       "      <td>False</td>\n",
       "      <td>False</td>\n",
       "      <td>False</td>\n",
       "      <td>False</td>\n",
       "      <td>False</td>\n",
       "      <td>False</td>\n",
       "      <td>False</td>\n",
       "    </tr>\n",
       "  </tbody>\n",
       "</table>\n",
       "</div>"
      ],
      "text/plain": [
       "   Pregnancies  Glucose  BloodPressure  SkinThickness  Insulin    BMI  \\\n",
       "0        False    False          False          False    False  False   \n",
       "1        False    False          False          False    False  False   \n",
       "2        False    False          False          False    False  False   \n",
       "3        False    False          False          False    False  False   \n",
       "4        False    False          False          False    False  False   \n",
       "5        False    False          False          False    False  False   \n",
       "6        False    False          False          False    False  False   \n",
       "7        False    False          False          False    False  False   \n",
       "8        False    False          False          False    False  False   \n",
       "9        False    False          False          False    False  False   \n",
       "\n",
       "   DiabetesPedigreeFunction    Age  Outcome  \n",
       "0                     False  False    False  \n",
       "1                     False  False    False  \n",
       "2                     False  False    False  \n",
       "3                     False  False    False  \n",
       "4                     False  False    False  \n",
       "5                     False  False    False  \n",
       "6                     False  False    False  \n",
       "7                     False  False    False  \n",
       "8                     False  False    False  \n",
       "9                     False  False    False  "
      ]
     },
     "execution_count": 10,
     "metadata": {},
     "output_type": "execute_result"
    }
   ],
   "source": [
    "missing_data = diabetes_df.isnull()\n",
    "missing_data.head(10)"
   ]
  },
  {
   "cell_type": "markdown",
   "metadata": {},
   "source": [
    "<h4>Contar valores ausentes em cada coluna</h4>\n",
    "<p>\n",
    "    Usando um loop <b>for</b> no Python, podemos descobrir rapidamente o número de valores ausentes em cada coluna. \"True\" representa um valor ausente, \"False\" significa que o valor está presente no conjunto de dados. No corpo do loop <b>for</b>, o método \".value_counts()\" conta o número de valores \"True\".\n",
    "</p>"
   ]
  },
  {
   "cell_type": "code",
   "execution_count": 11,
   "metadata": {},
   "outputs": [
    {
     "name": "stdout",
     "output_type": "stream",
     "text": [
      "False    768\n",
      "Name: Pregnancies, dtype: int64\n",
      "\n",
      "False    768\n",
      "Name: Glucose, dtype: int64\n",
      "\n",
      "False    768\n",
      "Name: BloodPressure, dtype: int64\n",
      "\n",
      "False    768\n",
      "Name: SkinThickness, dtype: int64\n",
      "\n",
      "False    768\n",
      "Name: Insulin, dtype: int64\n",
      "\n",
      "False    768\n",
      "Name: BMI, dtype: int64\n",
      "\n",
      "False    768\n",
      "Name: DiabetesPedigreeFunction, dtype: int64\n",
      "\n",
      "False    768\n",
      "Name: Age, dtype: int64\n",
      "\n",
      "False    768\n",
      "Name: Outcome, dtype: int64\n",
      "\n"
     ]
    }
   ],
   "source": [
    "for i in missing_data.columns:\n",
    "    print (missing_data[i].value_counts())\n",
    "    print(\"\")    "
   ]
  },
  {
   "cell_type": "markdown",
   "metadata": {},
   "source": [
    "Definitivamente, não há dados ausentes nesse conjunto de dados"
   ]
  },
  {
   "cell_type": "markdown",
   "metadata": {},
   "source": [
    "## Pré-processamento e seleção dos dados"
   ]
  },
  {
   "cell_type": "markdown",
   "metadata": {},
   "source": [
    "Vamos selecionar alguns recursos para a modelagem. Também mudamos o tipo de dados de destino para inteiro, pois é um requisito do algoritmo skitlearn:"
   ]
  },
  {
   "cell_type": "code",
   "execution_count": 12,
   "metadata": {},
   "outputs": [
    {
     "data": {
      "text/html": [
       "<div>\n",
       "<style scoped>\n",
       "    .dataframe tbody tr th:only-of-type {\n",
       "        vertical-align: middle;\n",
       "    }\n",
       "\n",
       "    .dataframe tbody tr th {\n",
       "        vertical-align: top;\n",
       "    }\n",
       "\n",
       "    .dataframe thead th {\n",
       "        text-align: right;\n",
       "    }\n",
       "</style>\n",
       "<table border=\"1\" class=\"dataframe\">\n",
       "  <thead>\n",
       "    <tr style=\"text-align: right;\">\n",
       "      <th></th>\n",
       "      <th>Pregnancies</th>\n",
       "      <th>Glucose</th>\n",
       "      <th>BloodPressure</th>\n",
       "      <th>SkinThickness</th>\n",
       "      <th>Insulin</th>\n",
       "      <th>BMI</th>\n",
       "      <th>DiabetesPedigreeFunction</th>\n",
       "      <th>Age</th>\n",
       "      <th>Outcome</th>\n",
       "    </tr>\n",
       "  </thead>\n",
       "  <tbody>\n",
       "    <tr>\n",
       "      <th>0</th>\n",
       "      <td>6</td>\n",
       "      <td>148</td>\n",
       "      <td>72</td>\n",
       "      <td>35</td>\n",
       "      <td>0</td>\n",
       "      <td>33.6</td>\n",
       "      <td>0.627</td>\n",
       "      <td>50</td>\n",
       "      <td>1</td>\n",
       "    </tr>\n",
       "    <tr>\n",
       "      <th>1</th>\n",
       "      <td>1</td>\n",
       "      <td>85</td>\n",
       "      <td>66</td>\n",
       "      <td>29</td>\n",
       "      <td>0</td>\n",
       "      <td>26.6</td>\n",
       "      <td>0.351</td>\n",
       "      <td>31</td>\n",
       "      <td>0</td>\n",
       "    </tr>\n",
       "    <tr>\n",
       "      <th>2</th>\n",
       "      <td>8</td>\n",
       "      <td>183</td>\n",
       "      <td>64</td>\n",
       "      <td>0</td>\n",
       "      <td>0</td>\n",
       "      <td>23.3</td>\n",
       "      <td>0.672</td>\n",
       "      <td>32</td>\n",
       "      <td>1</td>\n",
       "    </tr>\n",
       "    <tr>\n",
       "      <th>3</th>\n",
       "      <td>1</td>\n",
       "      <td>89</td>\n",
       "      <td>66</td>\n",
       "      <td>23</td>\n",
       "      <td>94</td>\n",
       "      <td>28.1</td>\n",
       "      <td>0.167</td>\n",
       "      <td>21</td>\n",
       "      <td>0</td>\n",
       "    </tr>\n",
       "    <tr>\n",
       "      <th>4</th>\n",
       "      <td>0</td>\n",
       "      <td>137</td>\n",
       "      <td>40</td>\n",
       "      <td>35</td>\n",
       "      <td>168</td>\n",
       "      <td>43.1</td>\n",
       "      <td>2.288</td>\n",
       "      <td>33</td>\n",
       "      <td>1</td>\n",
       "    </tr>\n",
       "  </tbody>\n",
       "</table>\n",
       "</div>"
      ],
      "text/plain": [
       "   Pregnancies  Glucose  BloodPressure  SkinThickness  Insulin   BMI  \\\n",
       "0            6      148             72             35        0  33.6   \n",
       "1            1       85             66             29        0  26.6   \n",
       "2            8      183             64              0        0  23.3   \n",
       "3            1       89             66             23       94  28.1   \n",
       "4            0      137             40             35      168  43.1   \n",
       "\n",
       "   DiabetesPedigreeFunction  Age  Outcome  \n",
       "0                     0.627   50        1  \n",
       "1                     0.351   31        0  \n",
       "2                     0.672   32        1  \n",
       "3                     0.167   21        0  \n",
       "4                     2.288   33        1  "
      ]
     },
     "execution_count": 12,
     "metadata": {},
     "output_type": "execute_result"
    }
   ],
   "source": [
    "# Usaremos todas as variáveis nessa modelagem, mas para fins didáticos:\n",
    "diabetes_df = diabetes_df[['Pregnancies', 'Glucose', 'BloodPressure', 'SkinThickness', 'Insulin',\n",
    "       'BMI', 'DiabetesPedigreeFunction', 'Age', 'Outcome']]\n",
    "\n",
    "# A label já está no formato de inteiro, mas para fins didáticos:\n",
    "diabetes_df['Outcome'] = diabetes_df['Outcome'].astype('int')\n",
    "diabetes_df.head()"
   ]
  },
  {
   "cell_type": "markdown",
   "metadata": {},
   "source": [
    "Vamos definir X, e y para o nosso dataset:"
   ]
  },
  {
   "cell_type": "code",
   "execution_count": 13,
   "metadata": {},
   "outputs": [
    {
     "data": {
      "text/plain": [
       "(array([500.,   0.,   0.,   0.,   0.,   0.,   0.,   0.,   0., 268.]),\n",
       " array([0. , 0.1, 0.2, 0.3, 0.4, 0.5, 0.6, 0.7, 0.8, 0.9, 1. ]),\n",
       " <BarContainer object of 10 artists>)"
      ]
     },
     "execution_count": 13,
     "metadata": {},
     "output_type": "execute_result"
    },
    {
     "data": {
      "image/png": "[encoded data removed]",
      "text/plain": [
       "<Figure size 640x480 with 1 Axes>"
      ]
     },
     "metadata": {},
     "output_type": "display_data"
    }
   ],
   "source": [
    "# Plotando a variável target\n",
    "plt.hist(diabetes_df['Outcome'])"
   ]
  },
  {
   "cell_type": "markdown",
   "metadata": {},
   "source": [
    "Existe um desbalanceamento entre as classes, e esta diferença pode prejudicar a qualidade do nosso modelo."
   ]
  },
  {
   "cell_type": "markdown",
   "metadata": {},
   "source": [
    "## Conjunto de treino e teste dataset"
   ]
  },
  {
   "cell_type": "markdown",
   "metadata": {},
   "source": [
    "Certo, nós vamos dividir nosso dataset em conjuntos de treino e teste."
   ]
  },
  {
   "cell_type": "code",
   "execution_count": 14,
   "metadata": {},
   "outputs": [],
   "source": [
    "from sklearn.model_selection import train_test_split\n",
    "#train, test = train_test_split( diabetes_df, test_size=0.2, random_state=4,stratify=churn_df['churn'])\n",
    "train, test = train_test_split( diabetes_df, test_size=0.2, random_state=4)"
   ]
  },
  {
   "cell_type": "markdown",
   "metadata": {},
   "source": [
    "Vamos normalizar os dados utilizando o z-score. Então precisamos calcular a média e o desvio padrão do conjunto de treino, antes de realizar a sobre-amostragem."
   ]
  },
  {
   "cell_type": "code",
   "execution_count": 15,
   "metadata": {},
   "outputs": [],
   "source": [
    "from sklearn.model_selection import train_test_split\n",
    "from sklearn.preprocessing import StandardScaler\n",
    "\n",
    "#separando o conjunto de entrada de treino\n",
    "X_train = np.asarray(train[['Pregnancies', 'Glucose', 'BloodPressure', 'SkinThickness', 'Insulin',\n",
    "       'BMI', 'DiabetesPedigreeFunction', 'Age']])\n",
    "\n",
    "#calculando a média e o desvio padrão do conjunto de treino\n",
    "data_scaler = StandardScaler().fit(X_train)"
   ]
  },
  {
   "cell_type": "markdown",
   "metadata": {},
   "source": [
    "Agora vamos realizar o oversampling."
   ]
  },
  {
   "cell_type": "markdown",
   "metadata": {},
   "source": [
    "## Over-sampling dos dados (sobre-amostragem)\n",
    "\n",
    "Como o nosso dataset possuí poucos dados, realizaremos a sobre-amostragem da classe 1.\n",
    "\n",
    "Diferente da técnica de sobreamostragem aleatória, a técnica do SMOTE cria dados sintéticos através de interpolação do erro de classificação, dos dados originais, via KNN (k-Nearest Neighbors). Mais detalhes em (N. V. Chawla, K. W. Bowyer, L. O.Hall, W. P. Kegelmeyer, “SMOTE: synthetic minority over-sampling technique,” Journal of artificial intelligence research, 16, 321-357, 2002.)"
   ]
  },
  {
   "cell_type": "markdown",
   "metadata": {},
   "source": [
    "Criando os dados"
   ]
  },
  {
   "cell_type": "code",
   "execution_count": 16,
   "metadata": {},
   "outputs": [],
   "source": [
    "# pip install -U --user imbalanced-learn"
   ]
  },
  {
   "cell_type": "code",
   "execution_count": 17,
   "metadata": {},
   "outputs": [],
   "source": [
    "from imblearn.over_sampling import SMOTENC\n",
    "\n",
    "smt=SMOTENC(sampling_strategy ='auto',categorical_features=[6,])\n",
    "df_X_train_over, df_y_train_over = smt.fit_resample(train[['Pregnancies', 'Glucose', 'BloodPressure', 'SkinThickness', 'Insulin',\n",
    "       'BMI', 'DiabetesPedigreeFunction', 'Age']], train[['Outcome']])"
   ]
  },
  {
   "cell_type": "code",
   "execution_count": 18,
   "metadata": {},
   "outputs": [
    {
     "data": {
      "text/plain": [
       "0    398\n",
       "1    398\n",
       "Name: Outcome, dtype: int64"
      ]
     },
     "execution_count": 18,
     "metadata": {},
     "output_type": "execute_result"
    }
   ],
   "source": [
    "# Contagem das classes\n",
    "df_y_train_over.Outcome.value_counts()"
   ]
  },
  {
   "cell_type": "markdown",
   "metadata": {},
   "source": [
    "Unindo entrada e saída. Essa parte será utilizada mais tarde."
   ]
  },
  {
   "cell_type": "code",
   "execution_count": 19,
   "metadata": {},
   "outputs": [
    {
     "data": {
      "text/html": [
       "<div>\n",
       "<style scoped>\n",
       "    .dataframe tbody tr th:only-of-type {\n",
       "        vertical-align: middle;\n",
       "    }\n",
       "\n",
       "    .dataframe tbody tr th {\n",
       "        vertical-align: top;\n",
       "    }\n",
       "\n",
       "    .dataframe thead th {\n",
       "        text-align: right;\n",
       "    }\n",
       "</style>\n",
       "<table border=\"1\" class=\"dataframe\">\n",
       "  <thead>\n",
       "    <tr style=\"text-align: right;\">\n",
       "      <th></th>\n",
       "      <th>Pregnancies</th>\n",
       "      <th>Glucose</th>\n",
       "      <th>BloodPressure</th>\n",
       "      <th>SkinThickness</th>\n",
       "      <th>Insulin</th>\n",
       "      <th>BMI</th>\n",
       "      <th>DiabetesPedigreeFunction</th>\n",
       "      <th>Age</th>\n",
       "      <th>Outcome</th>\n",
       "    </tr>\n",
       "  </thead>\n",
       "  <tbody>\n",
       "    <tr>\n",
       "      <th>0</th>\n",
       "      <td>0</td>\n",
       "      <td>67</td>\n",
       "      <td>76</td>\n",
       "      <td>0</td>\n",
       "      <td>0</td>\n",
       "      <td>45.3</td>\n",
       "      <td>0.194</td>\n",
       "      <td>46</td>\n",
       "      <td>0</td>\n",
       "    </tr>\n",
       "    <tr>\n",
       "      <th>1</th>\n",
       "      <td>1</td>\n",
       "      <td>80</td>\n",
       "      <td>55</td>\n",
       "      <td>0</td>\n",
       "      <td>0</td>\n",
       "      <td>19.1</td>\n",
       "      <td>0.258</td>\n",
       "      <td>21</td>\n",
       "      <td>0</td>\n",
       "    </tr>\n",
       "    <tr>\n",
       "      <th>2</th>\n",
       "      <td>2</td>\n",
       "      <td>105</td>\n",
       "      <td>75</td>\n",
       "      <td>0</td>\n",
       "      <td>0</td>\n",
       "      <td>23.3</td>\n",
       "      <td>0.560</td>\n",
       "      <td>53</td>\n",
       "      <td>0</td>\n",
       "    </tr>\n",
       "    <tr>\n",
       "      <th>3</th>\n",
       "      <td>2</td>\n",
       "      <td>90</td>\n",
       "      <td>60</td>\n",
       "      <td>0</td>\n",
       "      <td>0</td>\n",
       "      <td>23.5</td>\n",
       "      <td>0.191</td>\n",
       "      <td>25</td>\n",
       "      <td>0</td>\n",
       "    </tr>\n",
       "    <tr>\n",
       "      <th>4</th>\n",
       "      <td>7</td>\n",
       "      <td>125</td>\n",
       "      <td>86</td>\n",
       "      <td>0</td>\n",
       "      <td>0</td>\n",
       "      <td>37.6</td>\n",
       "      <td>0.304</td>\n",
       "      <td>51</td>\n",
       "      <td>0</td>\n",
       "    </tr>\n",
       "  </tbody>\n",
       "</table>\n",
       "</div>"
      ],
      "text/plain": [
       "   Pregnancies  Glucose  BloodPressure  SkinThickness  Insulin   BMI  \\\n",
       "0            0       67             76              0        0  45.3   \n",
       "1            1       80             55              0        0  19.1   \n",
       "2            2      105             75              0        0  23.3   \n",
       "3            2       90             60              0        0  23.5   \n",
       "4            7      125             86              0        0  37.6   \n",
       "\n",
       "   DiabetesPedigreeFunction  Age  Outcome  \n",
       "0                     0.194   46        0  \n",
       "1                     0.258   21        0  \n",
       "2                     0.560   53        0  \n",
       "3                     0.191   25        0  \n",
       "4                     0.304   51        0  "
      ]
     },
     "execution_count": 19,
     "metadata": {},
     "output_type": "execute_result"
    }
   ],
   "source": [
    "df_train_over = pd.concat([df_X_train_over, df_y_train_over], axis=1)\n",
    "df_train_over.head()"
   ]
  },
  {
   "cell_type": "markdown",
   "metadata": {},
   "source": [
    "Agora vamos normalizar os conjuntos de treino e teste, utilizando a média e o desvio padrão calculado anteriormente."
   ]
  },
  {
   "cell_type": "code",
   "execution_count": 20,
   "metadata": {},
   "outputs": [],
   "source": [
    "from sklearn.model_selection import train_test_split\n",
    "from sklearn.preprocessing import StandardScaler\n",
    "\n",
    "X_train_over = np.asarray(df_train_over[['Pregnancies', 'Glucose', 'BloodPressure', 'SkinThickness', 'Insulin',\n",
    "       'BMI', 'DiabetesPedigreeFunction', 'Age']])\n",
    "X_test = np.asarray(test[['Pregnancies', 'Glucose', 'BloodPressure', 'SkinThickness', 'Insulin',\n",
    "       'BMI', 'DiabetesPedigreeFunction', 'Age']])\n",
    "\n",
    "y_train_over = np.asarray(df_y_train_over['Outcome'])\n",
    "y_test = np.asarray(test['Outcome'])\n",
    "\n",
    "#aplicando o z-score nos conjuntos de treino e teste\n",
    "data_scaler = StandardScaler().fit(X_train_over)\n",
    "X_train_over = data_scaler.transform(X_train_over)\n",
    "X_test = data_scaler.transform(X_test)"
   ]
  },
  {
   "cell_type": "markdown",
   "metadata": {},
   "source": [
    "# Modelando (rede neural multicamadas com Scikit-learn)"
   ]
  },
  {
   "cell_type": "markdown",
   "metadata": {},
   "source": [
    "Vamos construir nosso modelo utilizando o __MLP classifier__ do pacote Scikit-learn. \n",
    "Agora vamos treinar (fit) nosso modelo com o conjunto de treino:"
   ]
  },
  {
   "cell_type": "code",
   "execution_count": 21,
   "metadata": {},
   "outputs": [],
   "source": [
    "import matplotlib.pyplot as plt\n",
    "from sklearn.datasets import fetch_openml\n",
    "from sklearn.neural_network import MLPClassifier\n",
    "from sklearn.metrics import confusion_matrix\n",
    "from sklearn.model_selection import GridSearchCV\n",
    "from sklearn.pipeline import Pipeline"
   ]
  },
  {
   "cell_type": "markdown",
   "metadata": {},
   "source": [
    "Criando parametros para o grid search"
   ]
  },
  {
   "cell_type": "code",
   "execution_count": 22,
   "metadata": {},
   "outputs": [],
   "source": [
    "#testando duas camadas escondidas para diferentes configurações de neurônios\n",
    "#camadas=((3,3),(4,4),(3,5))"
   ]
  },
  {
   "cell_type": "code",
   "execution_count": 23,
   "metadata": {},
   "outputs": [],
   "source": [
    "#testando uma camada escondida para um range de 1 à 5 neurônios\n",
    "camadas=(10,50,100)#range(1,50)"
   ]
  },
  {
   "cell_type": "code",
   "execution_count": 24,
   "metadata": {},
   "outputs": [],
   "source": [
    "parametros={'hidden_layer_sizes':camadas,'learning_rate_init': (0.1,0.9,0.01,0.001),\n",
    "            'activation' :['tanh','relu'],'solver':['sgd','adam'],'learning_rate':['adaptive','constant'],\n",
    "           'early_stopping':[True],'batch_size':(10,),'n_iter_no_change':(10,),'alpha':(0.001,0.9) }\n",
    "mlp = MLPClassifier()\n",
    "#clf = GridSearchCV(mlp,param_grid = parametros,cv = 5,scoring= 'accuracy',verbose=True, n_jobs=-1,return_train_score=True)\n",
    "clf = GridSearchCV(mlp,param_grid = parametros,cv = 5,scoring= 'f1',verbose=True, n_jobs=-1,return_train_score=True)\n",
    "#clf = GridSearchCV(mlp,param_grid = parametros,cv = 5,scoring= 'recall',verbose=True, n_jobs=-1,return_train_score=True)\n",
    "#clf = GridSearchCV(mlp,param_grid = parametros,cv = 5,scoring= 'precision',verbose=True, n_jobs=-1,return_train_score=True)"
   ]
  },
  {
   "cell_type": "markdown",
   "metadata": {},
   "source": [
    "Treinando e encontrando os melhores parâmetros"
   ]
  },
  {
   "cell_type": "code",
   "execution_count": 25,
   "metadata": {},
   "outputs": [
    {
     "name": "stdout",
     "output_type": "stream",
     "text": [
      "Fitting 5 folds for each of 192 candidates, totalling 960 fits\n"
     ]
    }
   ],
   "source": [
    "best_clf=clf.fit(X_train_over, y_train_over)"
   ]
  },
  {
   "cell_type": "markdown",
   "metadata": {},
   "source": [
    "Visualizando todos treinos"
   ]
  },
  {
   "cell_type": "code",
   "execution_count": 27,
   "metadata": {},
   "outputs": [
    {
     "data": {
      "text/html": [
       "<div>\n",
       "<style scoped>\n",
       "    .dataframe tbody tr th:only-of-type {\n",
       "        vertical-align: middle;\n",
       "    }\n",
       "\n",
       "    .dataframe tbody tr th {\n",
       "        vertical-align: top;\n",
       "    }\n",
       "\n",
       "    .dataframe thead th {\n",
       "        text-align: right;\n",
       "    }\n",
       "</style>\n",
       "<table border=\"1\" class=\"dataframe\">\n",
       "  <thead>\n",
       "    <tr style=\"text-align: right;\">\n",
       "      <th></th>\n",
       "      <th>mean_test_score</th>\n",
       "      <th>std_test_score</th>\n",
       "    </tr>\n",
       "  </thead>\n",
       "  <tbody>\n",
       "    <tr>\n",
       "      <th>113</th>\n",
       "      <td>0.784218</td>\n",
       "      <td>0.019341</td>\n",
       "    </tr>\n",
       "  </tbody>\n",
       "</table>\n",
       "</div>"
      ],
      "text/plain": [
       "     mean_test_score  std_test_score\n",
       "113         0.784218        0.019341"
      ]
     },
     "execution_count": 27,
     "metadata": {},
     "output_type": "execute_result"
    }
   ],
   "source": [
    "df_param=pd.DataFrame(data=best_clf.cv_results_)\n",
    "\n",
    "df_param.loc[df_param['mean_test_score']==df_param['mean_test_score'].max(),'mean_test_score':'std_test_score']\n",
    "#df_param.loc[df_param['mean_test_score']==df_param['mean_test_score'].max()]"
   ]
  },
  {
   "cell_type": "code",
   "execution_count": 28,
   "metadata": {},
   "outputs": [
    {
     "data": {
      "text/html": [
       "<div>\n",
       "<style scoped>\n",
       "    .dataframe tbody tr th:only-of-type {\n",
       "        vertical-align: middle;\n",
       "    }\n",
       "\n",
       "    .dataframe tbody tr th {\n",
       "        vertical-align: top;\n",
       "    }\n",
       "\n",
       "    .dataframe thead th {\n",
       "        text-align: right;\n",
       "    }\n",
       "</style>\n",
       "<table border=\"1\" class=\"dataframe\">\n",
       "  <thead>\n",
       "    <tr style=\"text-align: right;\">\n",
       "      <th></th>\n",
       "      <th>mean_fit_time</th>\n",
       "      <th>std_fit_time</th>\n",
       "      <th>mean_score_time</th>\n",
       "      <th>std_score_time</th>\n",
       "      <th>param_activation</th>\n",
       "      <th>param_alpha</th>\n",
       "      <th>param_batch_size</th>\n",
       "      <th>param_early_stopping</th>\n",
       "      <th>param_hidden_layer_sizes</th>\n",
       "      <th>param_learning_rate</th>\n",
       "      <th>...</th>\n",
       "      <th>mean_test_score</th>\n",
       "      <th>std_test_score</th>\n",
       "      <th>rank_test_score</th>\n",
       "      <th>split0_train_score</th>\n",
       "      <th>split1_train_score</th>\n",
       "      <th>split2_train_score</th>\n",
       "      <th>split3_train_score</th>\n",
       "      <th>split4_train_score</th>\n",
       "      <th>mean_train_score</th>\n",
       "      <th>std_train_score</th>\n",
       "    </tr>\n",
       "  </thead>\n",
       "  <tbody>\n",
       "    <tr>\n",
       "      <th>0</th>\n",
       "      <td>1.891355</td>\n",
       "      <td>0.108723</td>\n",
       "      <td>0.002084</td>\n",
       "      <td>1.709523e-03</td>\n",
       "      <td>tanh</td>\n",
       "      <td>0.001</td>\n",
       "      <td>10</td>\n",
       "      <td>True</td>\n",
       "      <td>10</td>\n",
       "      <td>adaptive</td>\n",
       "      <td>...</td>\n",
       "      <td>0.779099</td>\n",
       "      <td>0.031846</td>\n",
       "      <td>5</td>\n",
       "      <td>0.861685</td>\n",
       "      <td>0.904836</td>\n",
       "      <td>0.836524</td>\n",
       "      <td>0.862866</td>\n",
       "      <td>0.795252</td>\n",
       "      <td>0.852233</td>\n",
       "      <td>0.035953</td>\n",
       "    </tr>\n",
       "    <tr>\n",
       "      <th>1</th>\n",
       "      <td>0.321055</td>\n",
       "      <td>0.056379</td>\n",
       "      <td>0.001200</td>\n",
       "      <td>4.000908e-04</td>\n",
       "      <td>tanh</td>\n",
       "      <td>0.001</td>\n",
       "      <td>10</td>\n",
       "      <td>True</td>\n",
       "      <td>10</td>\n",
       "      <td>adaptive</td>\n",
       "      <td>...</td>\n",
       "      <td>0.728370</td>\n",
       "      <td>0.074687</td>\n",
       "      <td>135</td>\n",
       "      <td>0.823899</td>\n",
       "      <td>0.757216</td>\n",
       "      <td>0.806697</td>\n",
       "      <td>0.807750</td>\n",
       "      <td>0.793985</td>\n",
       "      <td>0.797909</td>\n",
       "      <td>0.022454</td>\n",
       "    </tr>\n",
       "    <tr>\n",
       "      <th>2</th>\n",
       "      <td>2.003302</td>\n",
       "      <td>0.131040</td>\n",
       "      <td>0.001203</td>\n",
       "      <td>4.023571e-04</td>\n",
       "      <td>tanh</td>\n",
       "      <td>0.001</td>\n",
       "      <td>10</td>\n",
       "      <td>True</td>\n",
       "      <td>10</td>\n",
       "      <td>adaptive</td>\n",
       "      <td>...</td>\n",
       "      <td>0.764943</td>\n",
       "      <td>0.040646</td>\n",
       "      <td>24</td>\n",
       "      <td>0.760274</td>\n",
       "      <td>0.822630</td>\n",
       "      <td>0.799401</td>\n",
       "      <td>0.771300</td>\n",
       "      <td>0.808023</td>\n",
       "      <td>0.792326</td>\n",
       "      <td>0.023170</td>\n",
       "    </tr>\n",
       "    <tr>\n",
       "      <th>3</th>\n",
       "      <td>0.350531</td>\n",
       "      <td>0.095536</td>\n",
       "      <td>0.001000</td>\n",
       "      <td>4.672031e-07</td>\n",
       "      <td>tanh</td>\n",
       "      <td>0.001</td>\n",
       "      <td>10</td>\n",
       "      <td>True</td>\n",
       "      <td>10</td>\n",
       "      <td>adaptive</td>\n",
       "      <td>...</td>\n",
       "      <td>0.737651</td>\n",
       "      <td>0.035606</td>\n",
       "      <td>106</td>\n",
       "      <td>0.737008</td>\n",
       "      <td>0.753247</td>\n",
       "      <td>0.759259</td>\n",
       "      <td>0.695958</td>\n",
       "      <td>0.682848</td>\n",
       "      <td>0.725664</td>\n",
       "      <td>0.030769</td>\n",
       "    </tr>\n",
       "    <tr>\n",
       "      <th>4</th>\n",
       "      <td>1.528204</td>\n",
       "      <td>0.137508</td>\n",
       "      <td>0.001202</td>\n",
       "      <td>4.054549e-04</td>\n",
       "      <td>tanh</td>\n",
       "      <td>0.001</td>\n",
       "      <td>10</td>\n",
       "      <td>True</td>\n",
       "      <td>10</td>\n",
       "      <td>adaptive</td>\n",
       "      <td>...</td>\n",
       "      <td>0.759206</td>\n",
       "      <td>0.027421</td>\n",
       "      <td>42</td>\n",
       "      <td>0.774803</td>\n",
       "      <td>0.810893</td>\n",
       "      <td>0.783172</td>\n",
       "      <td>0.785489</td>\n",
       "      <td>0.796325</td>\n",
       "      <td>0.790136</td>\n",
       "      <td>0.012445</td>\n",
       "    </tr>\n",
       "    <tr>\n",
       "      <th>...</th>\n",
       "      <td>...</td>\n",
       "      <td>...</td>\n",
       "      <td>...</td>\n",
       "      <td>...</td>\n",
       "      <td>...</td>\n",
       "      <td>...</td>\n",
       "      <td>...</td>\n",
       "      <td>...</td>\n",
       "      <td>...</td>\n",
       "      <td>...</td>\n",
       "      <td>...</td>\n",
       "      <td>...</td>\n",
       "      <td>...</td>\n",
       "      <td>...</td>\n",
       "      <td>...</td>\n",
       "      <td>...</td>\n",
       "      <td>...</td>\n",
       "      <td>...</td>\n",
       "      <td>...</td>\n",
       "      <td>...</td>\n",
       "      <td>...</td>\n",
       "    </tr>\n",
       "    <tr>\n",
       "      <th>108</th>\n",
       "      <td>0.373165</td>\n",
       "      <td>0.118388</td>\n",
       "      <td>0.002200</td>\n",
       "      <td>1.939310e-03</td>\n",
       "      <td>relu</td>\n",
       "      <td>0.001</td>\n",
       "      <td>10</td>\n",
       "      <td>True</td>\n",
       "      <td>10</td>\n",
       "      <td>constant</td>\n",
       "      <td>...</td>\n",
       "      <td>0.752456</td>\n",
       "      <td>0.033858</td>\n",
       "      <td>57</td>\n",
       "      <td>0.776911</td>\n",
       "      <td>0.796353</td>\n",
       "      <td>0.798732</td>\n",
       "      <td>0.718584</td>\n",
       "      <td>0.818591</td>\n",
       "      <td>0.781834</td>\n",
       "      <td>0.034270</td>\n",
       "    </tr>\n",
       "    <tr>\n",
       "      <th>109</th>\n",
       "      <td>0.377302</td>\n",
       "      <td>0.094692</td>\n",
       "      <td>0.001600</td>\n",
       "      <td>8.001692e-04</td>\n",
       "      <td>relu</td>\n",
       "      <td>0.001</td>\n",
       "      <td>10</td>\n",
       "      <td>True</td>\n",
       "      <td>10</td>\n",
       "      <td>constant</td>\n",
       "      <td>...</td>\n",
       "      <td>0.756876</td>\n",
       "      <td>0.026865</td>\n",
       "      <td>46</td>\n",
       "      <td>0.815038</td>\n",
       "      <td>0.803125</td>\n",
       "      <td>0.819242</td>\n",
       "      <td>0.767372</td>\n",
       "      <td>0.765273</td>\n",
       "      <td>0.794010</td>\n",
       "      <td>0.023226</td>\n",
       "    </tr>\n",
       "    <tr>\n",
       "      <th>110</th>\n",
       "      <td>0.508357</td>\n",
       "      <td>0.048469</td>\n",
       "      <td>0.001399</td>\n",
       "      <td>4.893386e-04</td>\n",
       "      <td>relu</td>\n",
       "      <td>0.001</td>\n",
       "      <td>10</td>\n",
       "      <td>True</td>\n",
       "      <td>10</td>\n",
       "      <td>constant</td>\n",
       "      <td>...</td>\n",
       "      <td>0.748993</td>\n",
       "      <td>0.018941</td>\n",
       "      <td>66</td>\n",
       "      <td>0.770701</td>\n",
       "      <td>0.729858</td>\n",
       "      <td>0.762053</td>\n",
       "      <td>0.745342</td>\n",
       "      <td>0.721582</td>\n",
       "      <td>0.745907</td>\n",
       "      <td>0.018574</td>\n",
       "    </tr>\n",
       "    <tr>\n",
       "      <th>111</th>\n",
       "      <td>0.509830</td>\n",
       "      <td>0.148418</td>\n",
       "      <td>0.001400</td>\n",
       "      <td>4.904079e-04</td>\n",
       "      <td>relu</td>\n",
       "      <td>0.001</td>\n",
       "      <td>10</td>\n",
       "      <td>True</td>\n",
       "      <td>10</td>\n",
       "      <td>constant</td>\n",
       "      <td>...</td>\n",
       "      <td>0.774536</td>\n",
       "      <td>0.028073</td>\n",
       "      <td>8</td>\n",
       "      <td>0.763473</td>\n",
       "      <td>0.779503</td>\n",
       "      <td>0.761760</td>\n",
       "      <td>0.752791</td>\n",
       "      <td>0.782209</td>\n",
       "      <td>0.767947</td>\n",
       "      <td>0.011180</td>\n",
       "    </tr>\n",
       "    <tr>\n",
       "      <th>112</th>\n",
       "      <td>2.212765</td>\n",
       "      <td>0.107565</td>\n",
       "      <td>0.001200</td>\n",
       "      <td>3.999960e-04</td>\n",
       "      <td>relu</td>\n",
       "      <td>0.001</td>\n",
       "      <td>10</td>\n",
       "      <td>True</td>\n",
       "      <td>50</td>\n",
       "      <td>adaptive</td>\n",
       "      <td>...</td>\n",
       "      <td>0.775575</td>\n",
       "      <td>0.035546</td>\n",
       "      <td>7</td>\n",
       "      <td>0.832853</td>\n",
       "      <td>0.842748</td>\n",
       "      <td>0.839580</td>\n",
       "      <td>0.879875</td>\n",
       "      <td>0.801712</td>\n",
       "      <td>0.839354</td>\n",
       "      <td>0.024951</td>\n",
       "    </tr>\n",
       "  </tbody>\n",
       "</table>\n",
       "<p>113 rows × 29 columns</p>\n",
       "</div>"
      ],
      "text/plain": [
       "     mean_fit_time  std_fit_time  mean_score_time  std_score_time  \\\n",
       "0         1.891355      0.108723         0.002084    1.709523e-03   \n",
       "1         0.321055      0.056379         0.001200    4.000908e-04   \n",
       "2         2.003302      0.131040         0.001203    4.023571e-04   \n",
       "3         0.350531      0.095536         0.001000    4.672031e-07   \n",
       "4         1.528204      0.137508         0.001202    4.054549e-04   \n",
       "..             ...           ...              ...             ...   \n",
       "108       0.373165      0.118388         0.002200    1.939310e-03   \n",
       "109       0.377302      0.094692         0.001600    8.001692e-04   \n",
       "110       0.508357      0.048469         0.001399    4.893386e-04   \n",
       "111       0.509830      0.148418         0.001400    4.904079e-04   \n",
       "112       2.212765      0.107565         0.001200    3.999960e-04   \n",
       "\n",
       "    param_activation param_alpha param_batch_size param_early_stopping  \\\n",
       "0               tanh       0.001               10                 True   \n",
       "1               tanh       0.001               10                 True   \n",
       "2               tanh       0.001               10                 True   \n",
       "3               tanh       0.001               10                 True   \n",
       "4               tanh       0.001               10                 True   \n",
       "..               ...         ...              ...                  ...   \n",
       "108             relu       0.001               10                 True   \n",
       "109             relu       0.001               10                 True   \n",
       "110             relu       0.001               10                 True   \n",
       "111             relu       0.001               10                 True   \n",
       "112             relu       0.001               10                 True   \n",
       "\n",
       "    param_hidden_layer_sizes param_learning_rate  ... mean_test_score  \\\n",
       "0                         10            adaptive  ...        0.779099   \n",
       "1                         10            adaptive  ...        0.728370   \n",
       "2                         10            adaptive  ...        0.764943   \n",
       "3                         10            adaptive  ...        0.737651   \n",
       "4                         10            adaptive  ...        0.759206   \n",
       "..                       ...                 ...  ...             ...   \n",
       "108                       10            constant  ...        0.752456   \n",
       "109                       10            constant  ...        0.756876   \n",
       "110                       10            constant  ...        0.748993   \n",
       "111                       10            constant  ...        0.774536   \n",
       "112                       50            adaptive  ...        0.775575   \n",
       "\n",
       "    std_test_score rank_test_score split0_train_score  split1_train_score  \\\n",
       "0         0.031846               5           0.861685            0.904836   \n",
       "1         0.074687             135           0.823899            0.757216   \n",
       "2         0.040646              24           0.760274            0.822630   \n",
       "3         0.035606             106           0.737008            0.753247   \n",
       "4         0.027421              42           0.774803            0.810893   \n",
       "..             ...             ...                ...                 ...   \n",
       "108       0.033858              57           0.776911            0.796353   \n",
       "109       0.026865              46           0.815038            0.803125   \n",
       "110       0.018941              66           0.770701            0.729858   \n",
       "111       0.028073               8           0.763473            0.779503   \n",
       "112       0.035546               7           0.832853            0.842748   \n",
       "\n",
       "     split2_train_score  split3_train_score  split4_train_score  \\\n",
       "0              0.836524            0.862866            0.795252   \n",
       "1              0.806697            0.807750            0.793985   \n",
       "2              0.799401            0.771300            0.808023   \n",
       "3              0.759259            0.695958            0.682848   \n",
       "4              0.783172            0.785489            0.796325   \n",
       "..                  ...                 ...                 ...   \n",
       "108            0.798732            0.718584            0.818591   \n",
       "109            0.819242            0.767372            0.765273   \n",
       "110            0.762053            0.745342            0.721582   \n",
       "111            0.761760            0.752791            0.782209   \n",
       "112            0.839580            0.879875            0.801712   \n",
       "\n",
       "     mean_train_score  std_train_score  \n",
       "0            0.852233         0.035953  \n",
       "1            0.797909         0.022454  \n",
       "2            0.792326         0.023170  \n",
       "3            0.725664         0.030769  \n",
       "4            0.790136         0.012445  \n",
       "..                ...              ...  \n",
       "108          0.781834         0.034270  \n",
       "109          0.794010         0.023226  \n",
       "110          0.745907         0.018574  \n",
       "111          0.767947         0.011180  \n",
       "112          0.839354         0.024951  \n",
       "\n",
       "[113 rows x 29 columns]"
      ]
     },
     "execution_count": 28,
     "metadata": {},
     "output_type": "execute_result"
    }
   ],
   "source": [
    "df_param.head(113)"
   ]
  },
  {
   "cell_type": "markdown",
   "metadata": {},
   "source": [
    "Visualizando os melhores parâmetros"
   ]
  },
  {
   "cell_type": "code",
   "execution_count": 29,
   "metadata": {
    "scrolled": false
   },
   "outputs": [
    {
     "name": "stdout",
     "output_type": "stream",
     "text": [
      "{'activation': 'relu', 'alpha': 0.001, 'batch_size': 10, 'early_stopping': True, 'hidden_layer_sizes': 50, 'learning_rate': 'adaptive', 'learning_rate_init': 0.1, 'n_iter_no_change': 10, 'solver': 'adam'}\n"
     ]
    }
   ],
   "source": [
    "print(best_clf.best_params_ )"
   ]
  },
  {
   "cell_type": "markdown",
   "metadata": {},
   "source": [
    "Agora podemos realizar a previsão com o conjunto de teste:"
   ]
  },
  {
   "cell_type": "code",
   "execution_count": 30,
   "metadata": {},
   "outputs": [
    {
     "data": {
      "text/plain": [
       "array([1, 0, 0, 1, 0, 1, 1, 1, 1, 1, 1, 0, 1, 0, 0, 1, 1, 1, 0, 0, 0, 1,\n",
       "       1, 1, 0, 0, 0, 1, 1, 0, 0, 0, 0, 0, 1, 1, 1, 1, 1, 1, 1, 1, 1, 1,\n",
       "       0, 0, 1, 1, 1, 0, 1, 0, 0, 1, 1, 0, 1, 0, 1, 1, 1, 0, 1, 0, 0, 1,\n",
       "       1, 1, 0, 1, 0, 0, 1, 0, 0, 1, 0, 0, 0, 1, 1, 1, 0, 1, 1, 0, 0, 1,\n",
       "       0, 0, 1, 0, 1, 0, 1, 1, 0, 1, 1, 1, 0, 1, 0, 1, 1, 0, 0, 1, 0, 1,\n",
       "       1, 1, 1, 0, 1, 0, 1, 1, 0, 1, 0, 0, 0, 0, 0, 0, 0, 1, 0, 1, 0, 0,\n",
       "       0, 0, 1, 0, 0, 0, 1, 1, 0, 0, 1, 1, 1, 1, 1, 1, 0, 1, 0, 1, 1, 1])"
      ]
     },
     "execution_count": 30,
     "metadata": {},
     "output_type": "execute_result"
    }
   ],
   "source": [
    "yhat = clf.predict(X_test)\n",
    "yhat"
   ]
  },
  {
   "cell_type": "markdown",
   "metadata": {},
   "source": [
    "__predict_proba__  returns estimates for all classes, ordered by the label of classes. So, the first column is the probability of class 1, P(Y=1|X), and second column is probability of class 0, P(Y=0|X):"
   ]
  },
  {
   "cell_type": "code",
   "execution_count": 31,
   "metadata": {},
   "outputs": [],
   "source": [
    "yhat_prob = clf.predict_proba(X_test)"
   ]
  },
  {
   "cell_type": "code",
   "execution_count": 33,
   "metadata": {},
   "outputs": [
    {
     "data": {
      "text/plain": [
       "array([[2.88337294e-01, 7.11662706e-01],\n",
       "       [5.64501301e-01, 4.35498699e-01],\n",
       "       [9.84264464e-01, 1.57355360e-02],\n",
       "       [3.19333813e-01, 6.80666187e-01],\n",
       "       [7.69275800e-01, 2.30724200e-01],\n",
       "       [2.06497492e-01, 7.93502508e-01],\n",
       "       [1.35825840e-01, 8.64174160e-01],\n",
       "       [2.42892602e-01, 7.57107398e-01],\n",
       "       [6.82383084e-03, 9.93176169e-01],\n",
       "       [4.26807960e-01, 5.73192040e-01],\n",
       "       [2.30831051e-01, 7.69168949e-01],\n",
       "       [9.80558466e-01, 1.94415341e-02],\n",
       "       [2.73267293e-01, 7.26732707e-01],\n",
       "       [9.72042756e-01, 2.79572442e-02],\n",
       "       [6.67989649e-01, 3.32010351e-01],\n",
       "       [1.92422236e-01, 8.07577764e-01],\n",
       "       [4.66406252e-02, 9.53359375e-01],\n",
       "       [1.42292712e-03, 9.98577073e-01],\n",
       "       [9.97762051e-01, 2.23794887e-03],\n",
       "       [9.47401390e-01, 5.25986103e-02],\n",
       "       [9.49267554e-01, 5.07324463e-02],\n",
       "       [7.24598701e-02, 9.27540130e-01],\n",
       "       [2.17586172e-01, 7.82413828e-01],\n",
       "       [3.62568711e-02, 9.63743129e-01],\n",
       "       [6.46389331e-01, 3.53610669e-01],\n",
       "       [5.83132968e-01, 4.16867032e-01],\n",
       "       [8.92025066e-01, 1.07974934e-01],\n",
       "       [6.01092364e-02, 9.39890764e-01],\n",
       "       [3.75148024e-01, 6.24851976e-01],\n",
       "       [5.77708079e-01, 4.22291921e-01],\n",
       "       [6.64091648e-01, 3.35908352e-01],\n",
       "       [9.98302723e-01, 1.69727691e-03],\n",
       "       [8.54972725e-01, 1.45027275e-01],\n",
       "       [9.91254629e-01, 8.74537107e-03],\n",
       "       [2.03243136e-01, 7.96756864e-01],\n",
       "       [2.36606861e-01, 7.63393139e-01],\n",
       "       [1.77140844e-02, 9.82285916e-01],\n",
       "       [1.72350561e-01, 8.27649439e-01],\n",
       "       [4.67396626e-01, 5.32603374e-01],\n",
       "       [3.09075540e-03, 9.96909245e-01],\n",
       "       [1.05903445e-01, 8.94096555e-01],\n",
       "       [3.07584227e-01, 6.92415773e-01],\n",
       "       [2.66803076e-01, 7.33196924e-01],\n",
       "       [2.01534313e-02, 9.79846569e-01],\n",
       "       [9.43726369e-01, 5.62736311e-02],\n",
       "       [9.65250637e-01, 3.47493632e-02],\n",
       "       [2.96895782e-01, 7.03104218e-01],\n",
       "       [2.99714798e-02, 9.70028520e-01],\n",
       "       [4.49061002e-01, 5.50938998e-01],\n",
       "       [9.99881893e-01, 1.18106550e-04],\n",
       "       [1.31902769e-01, 8.68097231e-01],\n",
       "       [6.14816341e-01, 3.85183659e-01],\n",
       "       [9.99603857e-01, 3.96142965e-04],\n",
       "       [1.07920437e-01, 8.92079563e-01],\n",
       "       [1.02049603e-01, 8.97950397e-01],\n",
       "       [8.71376490e-01, 1.28623510e-01],\n",
       "       [3.37924874e-01, 6.62075126e-01],\n",
       "       [9.99778818e-01, 2.21181532e-04],\n",
       "       [3.76085391e-01, 6.23914609e-01],\n",
       "       [1.74515670e-01, 8.25484330e-01],\n",
       "       [1.17066186e-01, 8.82933814e-01],\n",
       "       [7.99452900e-01, 2.00547100e-01],\n",
       "       [2.96895782e-01, 7.03104218e-01],\n",
       "       [9.37806175e-01, 6.21938250e-02],\n",
       "       [8.22293091e-01, 1.77706909e-01],\n",
       "       [3.37276464e-01, 6.62723536e-01],\n",
       "       [2.90328413e-01, 7.09671587e-01],\n",
       "       [2.03239626e-01, 7.96760374e-01],\n",
       "       [5.28055018e-01, 4.71944982e-01],\n",
       "       [8.13229014e-02, 9.18677099e-01],\n",
       "       [9.94276360e-01, 5.72364044e-03],\n",
       "       [7.91370276e-01, 2.08629724e-01],\n",
       "       [2.90401537e-01, 7.09598463e-01],\n",
       "       [9.99783198e-01, 2.16801881e-04],\n",
       "       [9.85165923e-01, 1.48340772e-02],\n",
       "       [2.10137690e-02, 9.78986231e-01],\n",
       "       [6.41846109e-01, 3.58153891e-01],\n",
       "       [9.58345008e-01, 4.16549923e-02],\n",
       "       [9.72551253e-01, 2.74487472e-02],\n",
       "       [3.91768612e-01, 6.08231388e-01],\n",
       "       [5.87357111e-02, 9.41264289e-01],\n",
       "       [1.43824645e-01, 8.56175355e-01],\n",
       "       [9.02365424e-01, 9.76345759e-02],\n",
       "       [4.68358424e-04, 9.99531642e-01],\n",
       "       [1.32093169e-01, 8.67906831e-01],\n",
       "       [9.99733228e-01, 2.66771979e-04],\n",
       "       [9.98853163e-01, 1.14683670e-03],\n",
       "       [3.57007547e-02, 9.64299245e-01],\n",
       "       [8.94708710e-01, 1.05291290e-01],\n",
       "       [8.60674385e-01, 1.39325615e-01],\n",
       "       [2.96895782e-01, 7.03104218e-01],\n",
       "       [9.98870342e-01, 1.12965776e-03],\n",
       "       [3.09021242e-01, 6.90978758e-01],\n",
       "       [5.38796212e-01, 4.61203788e-01],\n",
       "       [3.39801861e-01, 6.60198139e-01],\n",
       "       [4.81947185e-01, 5.18052815e-01],\n",
       "       [9.81121189e-01, 1.88788108e-02],\n",
       "       [2.36051985e-01, 7.63948015e-01],\n",
       "       [1.06981064e-01, 8.93018936e-01],\n",
       "       [1.66346747e-01, 8.33653253e-01],\n",
       "       [8.48693173e-01, 1.51306827e-01],\n",
       "       [1.95459263e-01, 8.04540737e-01],\n",
       "       [8.18046385e-01, 1.81953615e-01],\n",
       "       [3.87754204e-01, 6.12245796e-01],\n",
       "       [9.60813108e-03, 9.90391869e-01],\n",
       "       [7.24492372e-01, 2.75507628e-01],\n",
       "       [5.25416226e-01, 4.74583774e-01],\n",
       "       [2.47101788e-01, 7.52898212e-01],\n",
       "       [6.33533042e-01, 3.66466958e-01],\n",
       "       [1.75033233e-01, 8.24966767e-01],\n",
       "       [7.31848363e-02, 9.26815164e-01],\n",
       "       [2.91916674e-02, 9.70808333e-01],\n",
       "       [1.92273923e-02, 9.80772608e-01],\n",
       "       [9.99623778e-01, 3.76222284e-04],\n",
       "       [2.88322372e-01, 7.11677628e-01],\n",
       "       [9.55550139e-01, 4.44498613e-02],\n",
       "       [2.86358739e-01, 7.13641261e-01],\n",
       "       [2.41808221e-01, 7.58191779e-01],\n",
       "       [7.34963481e-01, 2.65036519e-01],\n",
       "       [6.14550552e-03, 9.93854494e-01],\n",
       "       [9.89396695e-01, 1.06033047e-02],\n",
       "       [8.66008687e-01, 1.33991313e-01],\n",
       "       [7.01289127e-01, 2.98710873e-01],\n",
       "       [9.96727134e-01, 3.27286642e-03],\n",
       "       [6.15221446e-01, 3.84778554e-01],\n",
       "       [8.33386304e-01, 1.66613696e-01],\n",
       "       [7.97376533e-01, 2.02623467e-01],\n",
       "       [2.86804925e-01, 7.13195075e-01],\n",
       "       [9.90772029e-01, 9.22797146e-03],\n",
       "       [6.40299495e-03, 9.93597005e-01],\n",
       "       [7.58721489e-01, 2.41278511e-01],\n",
       "       [9.99746514e-01, 2.53486091e-04],\n",
       "       [5.67773729e-01, 4.32226271e-01],\n",
       "       [9.79638373e-01, 2.03616265e-02],\n",
       "       [8.57266688e-02, 9.14273331e-01],\n",
       "       [9.96318119e-01, 3.68188069e-03],\n",
       "       [8.75986957e-01, 1.24013043e-01],\n",
       "       [8.09391149e-01, 1.90608851e-01],\n",
       "       [1.06825250e-01, 8.93174750e-01],\n",
       "       [4.11824972e-04, 9.99588175e-01],\n",
       "       [9.89443538e-01, 1.05564618e-02],\n",
       "       [9.97030427e-01, 2.96957273e-03],\n",
       "       [4.23141288e-01, 5.76858712e-01],\n",
       "       [4.26646113e-01, 5.73353887e-01],\n",
       "       [1.71934435e-02, 9.82806556e-01],\n",
       "       [4.86725707e-02, 9.51327429e-01],\n",
       "       [6.57167850e-02, 9.34283215e-01],\n",
       "       [1.41325996e-01, 8.58674004e-01],\n",
       "       [9.99807970e-01, 1.92030111e-04],\n",
       "       [1.40527386e-01, 8.59472614e-01],\n",
       "       [9.97632385e-01, 2.36761457e-03],\n",
       "       [3.24770709e-01, 6.75229291e-01],\n",
       "       [1.74036289e-01, 8.25963711e-01],\n",
       "       [2.70547794e-01, 7.29452206e-01]])"
      ]
     },
     "execution_count": 33,
     "metadata": {},
     "output_type": "execute_result"
    }
   ],
   "source": [
    "#yhat_prob = mlp.predict_proba(X_train_over)\n",
    "yhat_prob"
   ]
  },
  {
   "cell_type": "markdown",
   "metadata": {},
   "source": [
    "## Avaliação"
   ]
  },
  {
   "cell_type": "markdown",
   "metadata": {},
   "source": [
    "### matriz de confusão\n",
    "Outra maneira de analisar a precisão do classificador é analisar a __matriz de confusão__."
   ]
  },
  {
   "cell_type": "code",
   "execution_count": 34,
   "metadata": {
    "scrolled": false
   },
   "outputs": [],
   "source": [
    "confusao = confusion_matrix(y_test, yhat)"
   ]
  },
  {
   "cell_type": "code",
   "execution_count": 35,
   "metadata": {},
   "outputs": [
    {
     "name": "stdout",
     "output_type": "stream",
     "text": [
      "[[58 44]\n",
      " [12 40]]\n"
     ]
    }
   ],
   "source": [
    "print(confusao)"
   ]
  },
  {
   "cell_type": "code",
   "execution_count": 36,
   "metadata": {},
   "outputs": [],
   "source": [
    "confusao_hat = pd.DataFrame(data=confusao, index=('Outcome=0','Outcome=1'),columns=('Outcome=0','Outcome=1'))"
   ]
  },
  {
   "cell_type": "code",
   "execution_count": 37,
   "metadata": {},
   "outputs": [
    {
     "data": {
      "text/html": [
       "<div>\n",
       "<style scoped>\n",
       "    .dataframe tbody tr th:only-of-type {\n",
       "        vertical-align: middle;\n",
       "    }\n",
       "\n",
       "    .dataframe tbody tr th {\n",
       "        vertical-align: top;\n",
       "    }\n",
       "\n",
       "    .dataframe thead th {\n",
       "        text-align: right;\n",
       "    }\n",
       "</style>\n",
       "<table border=\"1\" class=\"dataframe\">\n",
       "  <thead>\n",
       "    <tr style=\"text-align: right;\">\n",
       "      <th></th>\n",
       "      <th>Outcome=0</th>\n",
       "      <th>Outcome=1</th>\n",
       "    </tr>\n",
       "  </thead>\n",
       "  <tbody>\n",
       "    <tr>\n",
       "      <th>Outcome=0</th>\n",
       "      <td>58</td>\n",
       "      <td>44</td>\n",
       "    </tr>\n",
       "    <tr>\n",
       "      <th>Outcome=1</th>\n",
       "      <td>12</td>\n",
       "      <td>40</td>\n",
       "    </tr>\n",
       "  </tbody>\n",
       "</table>\n",
       "</div>"
      ],
      "text/plain": [
       "           Outcome=0  Outcome=1\n",
       "Outcome=0         58         44\n",
       "Outcome=1         12         40"
      ]
     },
     "execution_count": 37,
     "metadata": {},
     "output_type": "execute_result"
    }
   ],
   "source": [
    "confusao_hat.head()"
   ]
  },
  {
   "cell_type": "code",
   "execution_count": 38,
   "metadata": {},
   "outputs": [
    {
     "data": {
      "text/plain": [
       "Text(0.5, 23.52222222222222, 'Predicted label')"
      ]
     },
     "execution_count": 38,
     "metadata": {},
     "output_type": "execute_result"
    },
    {
     "data": {
      "image/png": "[encoded data removed]",
      "text/plain": [
       "<Figure size 640x480 with 2 Axes>"
      ]
     },
     "metadata": {},
     "output_type": "display_data"
    }
   ],
   "source": [
    "sns.heatmap(confusao_hat,annot=True)\n",
    "plt.tight_layout()\n",
    "plt.ylabel('True label')\n",
    "plt.xlabel('Predicted label')"
   ]
  },
  {
   "cell_type": "code",
   "execution_count": 40,
   "metadata": {},
   "outputs": [
    {
     "name": "stdout",
     "output_type": "stream",
     "text": [
      "              precision    recall  f1-score   support\n",
      "\n",
      "           0       0.83      0.57      0.67       102\n",
      "           1       0.48      0.77      0.59        52\n",
      "\n",
      "    accuracy                           0.64       154\n",
      "   macro avg       0.65      0.67      0.63       154\n",
      "weighted avg       0.71      0.64      0.65       154\n",
      "\n"
     ]
    }
   ],
   "source": [
    "from sklearn.metrics import classification_report\n",
    "\n",
    "print (classification_report(y_test, yhat))"
   ]
  },
  {
   "cell_type": "markdown",
   "metadata": {},
   "source": [
    "Com base na contagem de cada seção, podemos calcular a precisão e o recall de cada rótulo:\n",
    "\n",
    "\n",
    "- __Precision__ é uma medida da precisão, desde que um rótulo de classe tenha sido previsto. É definido por: precision = TP / (TP + FP)\n",
    "\n",
    "- __Recall__ é verdadeira taxa positiva. É definido como: Rechamada = TP / (TP + FN)\n",
    "\n",
    "    \n",
    "Assim, podemos calcular a precisão e o recall de cada classe.\n",
    "\n",
    "__F1 score:__\n",
    "Agora, estamos em posição de calcular o F1 score para cada classe com base na precisão e recall dessa classe.\n",
    "\n",
    "O F1 score é a média harmônica da precisão e recall, onde um F1 score atinge seu melhor valor em 1 (precisão e recall perfeitas) e pior em 0. É uma boa maneira de mostrar que um classificador tem um bom valor para ambos recall e precisão.\n"
   ]
  },
  {
   "cell_type": "markdown",
   "metadata": {},
   "source": [
    "## Curva ROC e AUC "
   ]
  },
  {
   "cell_type": "markdown",
   "metadata": {},
   "source": [
    "A curva ROC pode ser traçada utilizando a função roc_curve(), da biblioteca scikit-learn. Para utilizar a função precisamos dos valores de probabilidade calculados na predição da classe 1. A função retorna as taxas de falsos positivos para cada limiar, as taxas verdadeiros positivos para cada limiar e os limiares."
   ]
  },
  {
   "cell_type": "code",
   "execution_count": 41,
   "metadata": {},
   "outputs": [],
   "source": [
    "# roc curve and auc\n",
    "from sklearn.metrics import roc_curve\n",
    "from sklearn.metrics import roc_auc_score\n",
    "from matplotlib import pyplot\n",
    "\n",
    "#separando a probabilidade para a classe 1\n",
    "yhat_prob_ = yhat_prob[:, 1]\n",
    "\n",
    "#calculando a curva\n",
    "#ns_fpr, ns_tpr, _ = roc_curve(y_train_over, yhat_prob)\n",
    "ns_fpr, ns_tpr, _ = roc_curve(y_test, yhat_prob_)\n",
    "#ns_tpr,ns_fpr, _ = roc_curve(y_test, yhat_prob_)"
   ]
  },
  {
   "cell_type": "markdown",
   "metadata": {},
   "source": [
    "Plotando a curva"
   ]
  },
  {
   "cell_type": "code",
   "execution_count": 56,
   "metadata": {
    "scrolled": true
   },
   "outputs": [
    {
     "data": {
      "image/png": "[encoded data removed]",
      "text/plain": [
       "<Figure size 640x480 with 1 Axes>"
      ]
     },
     "metadata": {},
     "output_type": "display_data"
    }
   ],
   "source": [
    "# plot the roc curve for the model\n",
    "pyplot.plot(ns_fpr, ns_tpr, marker='.', label='MLP')\n",
    "# axis labels\n",
    "pyplot.xlabel('False Positive Rate')\n",
    "pyplot.ylabel('True Positive Rate')\n",
    "# show the legend\n",
    "pyplot.legend()\n",
    "# show the plot\n",
    "pyplot.show()"
   ]
  },
  {
   "cell_type": "markdown",
   "metadata": {},
   "source": [
    "Calculando o AUC"
   ]
  },
  {
   "cell_type": "code",
   "execution_count": 57,
   "metadata": {},
   "outputs": [
    {
     "name": "stdout",
     "output_type": "stream",
     "text": [
      "ROC AUC=0.814\n"
     ]
    }
   ],
   "source": [
    "lr_auc = roc_auc_score(y_test, yhat_prob_)\n",
    "print('ROC AUC=%.3f' % (lr_auc))"
   ]
  },
  {
   "cell_type": "markdown",
   "metadata": {},
   "source": [
    "# Avaliando a consistência do modelo.\n",
    "Utilizando a validação cruzada e os melhores parâmetros.\n",
    "Um modelo robusto deve apresentar baixo variância (será analisado o desvio padrão) e baixo erro entre os treinos."
   ]
  },
  {
   "cell_type": "code",
   "execution_count": 58,
   "metadata": {},
   "outputs": [],
   "source": [
    "from sklearn.model_selection import cross_val_score\n",
    "from sklearn.pipeline import make_pipeline\n",
    "\n",
    "# {'activation': 'relu', 'alpha': 0.9, 'batch_size': 10, 'early_stopping': True, 'hidden_layer_sizes': 50,\n",
    "# 'learning_rate': 'adaptive', 'learning_rate_init': 0.1, 'n_iter_no_change': 10, 'solver': 'sgd'}\n",
    "\n",
    "mlp_cross = MLPClassifier(activation='relu', alpha=0.9, early_stopping=True,\n",
    "              hidden_layer_sizes=50, learning_rate='adaptive',\n",
    "              learning_rate_init=0.1, max_iter=1000, solver='sgd', verbose=False,batch_size=10,n_iter_no_change= 10)"
   ]
  },
  {
   "cell_type": "code",
   "execution_count": 60,
   "metadata": {},
   "outputs": [
    {
     "data": {
      "text/html": [
       "<div>\n",
       "<style scoped>\n",
       "    .dataframe tbody tr th:only-of-type {\n",
       "        vertical-align: middle;\n",
       "    }\n",
       "\n",
       "    .dataframe tbody tr th {\n",
       "        vertical-align: top;\n",
       "    }\n",
       "\n",
       "    .dataframe thead th {\n",
       "        text-align: right;\n",
       "    }\n",
       "</style>\n",
       "<table border=\"1\" class=\"dataframe\">\n",
       "  <thead>\n",
       "    <tr style=\"text-align: right;\">\n",
       "      <th></th>\n",
       "      <th>Pregnancies</th>\n",
       "      <th>Glucose</th>\n",
       "      <th>BloodPressure</th>\n",
       "      <th>SkinThickness</th>\n",
       "      <th>Insulin</th>\n",
       "      <th>BMI</th>\n",
       "      <th>DiabetesPedigreeFunction</th>\n",
       "      <th>Age</th>\n",
       "      <th>Outcome</th>\n",
       "    </tr>\n",
       "  </thead>\n",
       "  <tbody>\n",
       "    <tr>\n",
       "      <th>0</th>\n",
       "      <td>0</td>\n",
       "      <td>67</td>\n",
       "      <td>76</td>\n",
       "      <td>0</td>\n",
       "      <td>0</td>\n",
       "      <td>45.3</td>\n",
       "      <td>0.194</td>\n",
       "      <td>46</td>\n",
       "      <td>0</td>\n",
       "    </tr>\n",
       "    <tr>\n",
       "      <th>1</th>\n",
       "      <td>1</td>\n",
       "      <td>80</td>\n",
       "      <td>55</td>\n",
       "      <td>0</td>\n",
       "      <td>0</td>\n",
       "      <td>19.1</td>\n",
       "      <td>0.258</td>\n",
       "      <td>21</td>\n",
       "      <td>0</td>\n",
       "    </tr>\n",
       "    <tr>\n",
       "      <th>2</th>\n",
       "      <td>2</td>\n",
       "      <td>105</td>\n",
       "      <td>75</td>\n",
       "      <td>0</td>\n",
       "      <td>0</td>\n",
       "      <td>23.3</td>\n",
       "      <td>0.560</td>\n",
       "      <td>53</td>\n",
       "      <td>0</td>\n",
       "    </tr>\n",
       "    <tr>\n",
       "      <th>3</th>\n",
       "      <td>2</td>\n",
       "      <td>90</td>\n",
       "      <td>60</td>\n",
       "      <td>0</td>\n",
       "      <td>0</td>\n",
       "      <td>23.5</td>\n",
       "      <td>0.191</td>\n",
       "      <td>25</td>\n",
       "      <td>0</td>\n",
       "    </tr>\n",
       "    <tr>\n",
       "      <th>4</th>\n",
       "      <td>7</td>\n",
       "      <td>125</td>\n",
       "      <td>86</td>\n",
       "      <td>0</td>\n",
       "      <td>0</td>\n",
       "      <td>37.6</td>\n",
       "      <td>0.304</td>\n",
       "      <td>51</td>\n",
       "      <td>0</td>\n",
       "    </tr>\n",
       "  </tbody>\n",
       "</table>\n",
       "</div>"
      ],
      "text/plain": [
       "   Pregnancies  Glucose  BloodPressure  SkinThickness  Insulin   BMI  \\\n",
       "0            0       67             76              0        0  45.3   \n",
       "1            1       80             55              0        0  19.1   \n",
       "2            2      105             75              0        0  23.3   \n",
       "3            2       90             60              0        0  23.5   \n",
       "4            7      125             86              0        0  37.6   \n",
       "\n",
       "   DiabetesPedigreeFunction  Age  Outcome  \n",
       "0                     0.194   46        0  \n",
       "1                     0.258   21        0  \n",
       "2                     0.560   53        0  \n",
       "3                     0.191   25        0  \n",
       "4                     0.304   51        0  "
      ]
     },
     "execution_count": 60,
     "metadata": {},
     "output_type": "execute_result"
    }
   ],
   "source": [
    "data_cross= pd.concat([df_train_over, test], axis=0)\n",
    "data_cross.head()"
   ]
  },
  {
   "cell_type": "code",
   "execution_count": 61,
   "metadata": {},
   "outputs": [],
   "source": [
    "X_cross = np.asarray(data_cross[['Pregnancies', 'Glucose', 'BloodPressure', 'SkinThickness', 'Insulin',\n",
    "       'BMI', 'DiabetesPedigreeFunction', 'Age']])\n",
    "y_cross = np.asarray(data_cross['Outcome'])"
   ]
  },
  {
   "cell_type": "markdown",
   "metadata": {},
   "source": [
    "### O pipeline automatiza o processo de normalização dos dados para cada conjunto de treino e teste. Isto é, coloca em sequencia os passos: \n",
    "\n",
    "1- Normalização\n",
    "\n",
    "2-Treino do modelo"
   ]
  },
  {
   "cell_type": "code",
   "execution_count": 62,
   "metadata": {},
   "outputs": [
    {
     "name": "stdout",
     "output_type": "stream",
     "text": [
      "f1-score: 67.92%\n",
      "Std: 1.27\n"
     ]
    }
   ],
   "source": [
    "clf = make_pipeline(preprocessing.StandardScaler(),mlp_cross) \n",
    "results_clf = cross_val_score(clf, X_cross, y_cross,scoring='f1', cv=3)\n",
    "\n",
    "print(\"f1-score: %.2f%%\" % (results_clf.mean()*100.0)) \n",
    "print(\"Std: %.2f\" % (results_clf.std()*100.0))"
   ]
  },
  {
   "cell_type": "code",
   "execution_count": 63,
   "metadata": {},
   "outputs": [
    {
     "data": {
      "text/plain": [
       "array([0.66141732, 0.69014085, 0.68613139])"
      ]
     },
     "execution_count": 63,
     "metadata": {},
     "output_type": "execute_result"
    }
   ],
   "source": [
    "results_clf"
   ]
  },
  {
   "cell_type": "code",
   "execution_count": null,
   "metadata": {},
   "outputs": [],
   "source": []
  }
 ],
 "metadata": {
  "kernelspec": {
   "display_name": "Python 3 (ipykernel)",
   "language": "python",
   "name": "python3"
  },
  "language_info": {
   "codemirror_mode": {
    "name": "ipython",
    "version": 3
   },
   "file_extension": ".py",
   "mimetype": "text/x-python",
   "name": "python",
   "nbconvert_exporter": "python",
   "pygments_lexer": "ipython3",
   "version": "3.9.13"
  },
  "widgets": {
   "state": {},
   "version": "1.1.2"
  }
 },
 "nbformat": 4,
 "nbformat_minor": 2
}
